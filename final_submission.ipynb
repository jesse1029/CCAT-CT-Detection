{
 "cells": [
  {
   "cell_type": "code",
   "execution_count": 3,
   "id": "26a09802",
   "metadata": {},
   "outputs": [],
   "source": [
    "from scipy.stats import wilcoxon\n",
    "import pandas as pd\n",
    "import csv\n",
    "import os"
   ]
  },
  {
   "cell_type": "code",
   "execution_count": 4,
   "id": "f8061e8a",
   "metadata": {},
   "outputs": [],
   "source": [
    "def make_dict(covid, non_covid):\n",
    "    x = {i:1 for i in covid}\n",
    "    y = {i:0 for i in non_covid}\n",
    "    z = {**x, **y}\n",
    "    return z        "
   ]
  },
  {
   "cell_type": "markdown",
   "id": "b0cce969",
   "metadata": {},
   "source": [
    "# Submission 1 & 2"
   ]
  },
  {
   "cell_type": "markdown",
   "id": "9852b178",
   "metadata": {},
   "source": [
    "#### Please find the proposed CCAT at [here](https://github.com/jesse1029/CCAT-CT-Detection), run \"python test_single.py\" to get the predicted result."
   ]
  },
  {
   "cell_type": "markdown",
   "id": "f6db788f",
   "metadata": {},
   "source": [
    "# Submission 5"
   ]
  },
  {
   "cell_type": "markdown",
   "id": "2bfb82e9",
   "metadata": {},
   "source": [
    "#### The pretrained model of DWCC is available on this [link](https://www.dropbox.com/s/qkfy2q7a3r3kflm/DWCC.zip?dl=0), you can get the predicted result at [here](https://github.com/alright1117/Deep-Wilcoxon-signed-rank-test-for-Covid-19-classfication/blob/master/test_inference.ipynb)."
   ]
  },
  {
   "cell_type": "markdown",
   "id": "c1e855a5",
   "metadata": {},
   "source": [
    "# Submission 4"
   ]
  },
  {
   "cell_type": "markdown",
   "id": "5efe645c",
   "metadata": {},
   "source": [
    "#### The submission 4 is ensemble of proposed CCAT and DWCC (Submission 1, 2, 5)."
   ]
  },
  {
   "cell_type": "markdown",
   "id": "0d0efde7",
   "metadata": {},
   "source": [
    "### Load Submission5"
   ]
  },
  {
   "cell_type": "code",
   "execution_count": null,
   "id": "ecd9a367",
   "metadata": {},
   "outputs": [],
   "source": [
    "# Covid\n",
    "with open('submission/submission5/covid.csv', newline='') as csvfile:\n",
    "    rows = csv.reader(csvfile)\n",
    "    for row in rows:\n",
    "        DWCC_covid = row[:]\n",
    "        \n",
    "# non-covid\n",
    "with open('submission/submission5/non-covid.csv', newline='') as csvfile:\n",
    "    rows = csv.reader(csvfile)\n",
    "    for row in rows:\n",
    "        DWCC_non_covid = row[:]\n",
    "        \n",
    "DWCC = make_dict(DWCC_covid, DWCC_non_covid)"
   ]
  },
  {
   "cell_type": "markdown",
   "id": "1eb0a4d5",
   "metadata": {},
   "source": [
    "### Load Submission 1"
   ]
  },
  {
   "cell_type": "code",
   "execution_count": null,
   "id": "1dcda7d7",
   "metadata": {},
   "outputs": [],
   "source": [
    "# Covid\n",
    "with open('submission/submission1/covid.csv', newline='') as csvfile:\n",
    "    rows = csv.reader(csvfile)\n",
    "    for row in rows:\n",
    "        covid_9317 = row[:]\n",
    "        \n",
    "# non-covid\n",
    "with open('submission/submission1/non-covid.csv', newline='') as csvfile:\n",
    "    rows = csv.reader(csvfile)\n",
    "    for row in rows:\n",
    "        non_covid_9317 = row[:]\n",
    "        \n",
    "CCAT_9317 = make_dict(covid_9317, non_covid_9317)"
   ]
  },
  {
   "cell_type": "markdown",
   "id": "eeea4f41",
   "metadata": {},
   "source": [
    "### Load Submission 2"
   ]
  },
  {
   "cell_type": "code",
   "execution_count": null,
   "id": "15d0a712",
   "metadata": {},
   "outputs": [],
   "source": [
    "# Covid\n",
    "with open('submission/submission2/covid.csv', newline='') as csvfile:\n",
    "    rows = csv.reader(csvfile)\n",
    "    for row in rows:\n",
    "        covid_9294 = row[:]\n",
    "        \n",
    "# non-covid\n",
    "with open('submission/submission2/non-covid.csv', newline='') as csvfile:\n",
    "    rows = csv.reader(csvfile)\n",
    "    for row in rows:\n",
    "        non_covid_9294 = row[:]\n",
    "        \n",
    "CCAT_9294 = make_dict(covid_9294, non_covid_9294)"
   ]
  },
  {
   "cell_type": "code",
   "execution_count": null,
   "id": "90af0c7b",
   "metadata": {},
   "outputs": [],
   "source": [
    "covid = []\n",
    "non_covid = []\n",
    "for i in DWCC:\n",
    "    count = DWCC[i] + CCAT_9317[i] + CCAT_9294[i]\n",
    "    if count > 1:\n",
    "        covid.append(i)\n",
    "    else:\n",
    "        non_covid.append(i)"
   ]
  },
  {
   "cell_type": "code",
   "execution_count": null,
   "id": "61e44ea8",
   "metadata": {},
   "outputs": [],
   "source": [
    "with open('final_submission/submission4/covid.csv', 'w', encoding='UTF8') as f:\n",
    "    # create the csv writer\n",
    "    writer = csv.writer(f)\n",
    "    # write a row to the csv file\n",
    "    writer.writerow(covid)\n",
    "    \n",
    "with open('final_submission/submission4/non-covid.csv', 'w', encoding='UTF8') as f:\n",
    "    # create the csv writer\n",
    "    writer = csv.writer(f)\n",
    "    # write a row to the csv file\n",
    "    writer.writerow(non_covid)"
   ]
  },
  {
   "cell_type": "markdown",
   "id": "0f05af1c",
   "metadata": {},
   "source": [
    "# Submission 3"
   ]
  },
  {
   "cell_type": "markdown",
   "id": "9d855c88",
   "metadata": {},
   "source": [
    "#### The submission 3 is another ensemble of Proposed CCAT, CCAT model3, DWCC and DWCC finetuning (Submission 1, 2, 5)."
   ]
  },
  {
   "cell_type": "markdown",
   "id": "d5c7d7ef",
   "metadata": {},
   "source": [
    "#### Load the result of DWCC fine-tuning, the model is available at [link](https://www.dropbox.com/s/wzbg7w44qs8erjl/DWCC_finetuning.zip?dl=0), you can get the predicted result at [here](https://github.com/alright1117/Deep-Wilcoxon-signed-rank-test-for-Covid-19-classfication/blob/master/test_inference.ipynb)."
   ]
  },
  {
   "cell_type": "code",
   "execution_count": null,
   "id": "ec1d81ed",
   "metadata": {},
   "outputs": [],
   "source": [
    "# covid\n",
    "with open('submission/epoch_22_f1_0.912_alpha0.05/covid.csv', newline='') as csvfile:\n",
    "    rows = csv.reader(csvfile)\n",
    "    for row in rows:\n",
    "        DWCC_covid_f = row[:]\n",
    "        \n",
    "# non-covid\n",
    "with open('submission/epoch_22_f1_0.912_alpha0.05/non-covid.csv', newline='') as csvfile:\n",
    "    rows = csv.reader(csvfile)\n",
    "    for row in rows:\n",
    "        DWCC_non_covid_f = row[:]\n",
    "        \n",
    "DWCC_fine_tuning = make_dict(DWCC_covid_f, DWCC_non_covid_f)"
   ]
  },
  {
   "cell_type": "markdown",
   "id": "0e7308d2",
   "metadata": {},
   "source": [
    "#### Please find the proposed CCAT at [here](https://github.com/jesse1029/CCAT-CT-Detection), runing \"python test_single.py\" to get the predicted result. The model weight is available at [here](https://www.dropbox.com/transfer/AAAAAJz8vyBoYStKdTLkoDpsxH_4m9E85bh49FF0WFPG_AXy7bErELc)"
   ]
  },
  {
   "cell_type": "code",
   "execution_count": null,
   "id": "c7bf9832",
   "metadata": {},
   "outputs": [],
   "source": [
    "# covid\n",
    "with open('submission/ViTRes50-12-gmlp-im256/covid.csv', newline='') as csvfile:\n",
    "    rows = csv.reader(csvfile)\n",
    "    for row in rows:\n",
    "        covid_9259 = row[:]\n",
    "        \n",
    "# non-covid\n",
    "with open('submission/ViTRes50-12-gmlp-im256/non-covid.csv', newline='') as csvfile:\n",
    "    rows = csv.reader(csvfile)\n",
    "    for row in rows:\n",
    "        non_covid_9259 = row[:]\n",
    "        \n",
    "CCAT_9259 = make_dict(covid_9259, non_covid_9259)"
   ]
  },
  {
   "cell_type": "code",
   "execution_count": null,
   "id": "1ab01ed5",
   "metadata": {},
   "outputs": [],
   "source": [
    "covid = []\n",
    "non_covid = []\n",
    "for i in DWCC:\n",
    "    count = DWCC[i] + CCAT_9317[i] + CCAT_9294[i] + DWCC_fine_tuning[i] + CCAT_9259[i]\n",
    "    if count > 2:\n",
    "        covid.append(i)\n",
    "    else:\n",
    "        non_covid.append(i)"
   ]
  },
  {
   "cell_type": "code",
   "execution_count": null,
   "id": "945c790b",
   "metadata": {},
   "outputs": [],
   "source": [
    "with open('final_submission/submission3/covid.csv', 'w', encoding='UTF8') as f:\n",
    "    writer = csv.writer(f)\n",
    "    writer.writerow(covid)\n",
    "    \n",
    "with open('final_submission/submission3/non-covid.csv', 'w', encoding='UTF8') as f:\n",
    "    writer = csv.writer(f)\n",
    "    writer.writerow(non_covid)"
   ]
  }
 ],
 "metadata": {
  "kernelspec": {
   "display_name": "swin",
   "language": "python",
   "name": "swin"
  },
  "language_info": {
   "codemirror_mode": {
    "name": "ipython",
    "version": 3
   },
   "file_extension": ".py",
   "mimetype": "text/x-python",
   "name": "python",
   "nbconvert_exporter": "python",
   "pygments_lexer": "ipython3",
   "version": "3.6.13"
  }
 },
 "nbformat": 4,
 "nbformat_minor": 5
}
